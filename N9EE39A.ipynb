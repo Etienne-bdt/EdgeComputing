{
 "cells": [
  {
   "cell_type": "markdown",
   "metadata": {
    "id": "1bd3b382"
   },
   "source": [
    "# Travaux Pratiques - N9EE39A Edge Computing\n",
    "\n",
    "**Contact: Adrien THIRION ([email](adrien.thirion@nanomade.com))**  \n",
    "\n",
    "**Créé en Octobre 2023**\n",
    "\n",
    "\n",
    "\n",
    "L'objectif de ces séances de travaux pratiques est de vous familiariser avec le métier de Data Scientists, plus particulièrement dans un environnement contraint (système embarqué). Celui-ci a été pensé pour développer une vue d'ensemble de toutes les étapes nécessaires lors de la création d'un modèle, jusqu'à ce que celui-ci soit embarqué.\n",
    "\n",
    "\n",
    "\n",
    "Comme tout bon data scientist, l'utilisation de fonction existante sur internet est **vitale** !! En effet, l'intelligence artificielle est très présent de nos jours, donc si vous avez un problème, il est presque assuré que quelqu'un ait déjà eu le même !\n",
    "\n",
    "\n",
    "\n",
    "Le TP va se porter sur un sujet concret: la reconnaissance vocal. Ce sujet rentre dans le thème du Traitement automatique du langage naturel ou NLP [[1]](https://en.wikipedia.org/wiki/Natural_language_processing)) où la demande en IA embarqué est très recherchée (ex. enceinte connecté, smartphone, smartwatches, ..). Pour cela, vous allez vous baser sur une base de données existante se trouvant Kaggle: the TensorFlow Speech Recognition Challenge. Kaggle est un site de competition permettant de récompenser les meilleurs modèles avec des prix décernés aux meilleurs modèles. Cette compétition a été organisée par Google, avec plus de 25 000$ à gagner. Certaines peuvent même dépasser le million de dollard (ex. Netflix Price) donc si vous avez soif d'argent ou que le l'IA vous plaît, allez y jeter un coup d'oeil !\n",
    "\n",
    "\n",
    "\n",
    "Dans ce projet, vous allez essayer de classer correctement les 12 labels présents dans cette base de donnée via un modèle de convolution 1D ou récursif que vous aurez optimisé. Puis, vous devrez visualiser la variation des performances de ce modèle en fonction de son allégement (dans une volonté de l'embarquer).\n",
    "\n",
    "\n",
    "\n",
    "Le Rapport devra être fait sur ce jupyter notebook, en Markdown (comme le texte que vous êtes en train de lire).\n",
    "\n",
    "\n",
    "\n",
    "Ce projet a pour but d'évaluer votre esprit critique, votre analyse d'un problème et votre regard critique sur vos performances. Pour cela, l'entraide est encouragée mais en aucun cas le plagiat. Merci de respecter cela (promis c'est pour votre bien). Expliquez bien votre démarche et la raison de vos choix !!\n",
    "\n",
    "\n",
    "\n",
    "Le projet sera découpé en 5 TPs de 4h. Un guide de progession sera affiché sur chaque partie pour connaître votre avancement.\n",
    "\n",
    "\n",
    "\n",
    "\n",
    "\n",
    "Ce projet va être découpé en plusieurs parties:\n",
    "\n",
    "\n",
    "\n",
    "\n",
    "\n",
    "1. L'Analyse de la base de donnée.\n",
    "\n",
    "1. L'état de l'art.\n",
    "\n",
    "1. Le Preprocessing.\n",
    "\n",
    "1. L'apprentissage du modèle.\n",
    "\n",
    "1. Les résultats et discussions.\n",
    "\n",
    "1. L'allégement du modèle.\n",
    "\n",
    "1. La conclusion."
   ]
  },
  {
   "cell_type": "markdown",
   "metadata": {
    "id": "1bb136b5"
   },
   "source": [
    "## Analyse de la base de donnée\n",
    "\n",
    "\n",
    "\n",
    "\n",
    "\n",
    "La première étape est de télecharger et d'analyser la base de donnée. Pour cela rendez vous sur le site de la compétition:  \n",
    "\n",
    "https://www.kaggle.com/competitions/tensorflow-speech-recognition-challenge/overview\n",
    "\n",
    "\n",
    "\n",
    "Pensez à bien regarder la compétition en détail, cela pourra vous être très utile (comme par exemple trouver du code ou des articles).\n",
    "\n",
    "\n",
    "\n",
    "&nbsp;\n",
    "\n",
    "\n",
    "\n",
    "<font color=\"Darkred\"> Progression du TP après cette partie (environ 2h): </font>  "
   ]
  },
  {
   "cell_type": "markdown",
   "metadata": {
    "id": "2b969919"
   },
   "source": [
    "### Information sur la base de donnée\n",
    "\n",
    "<font color=\" Darkblue\"> **Tips:** Parlez de tous ce que vous savez des données (quantité d'instances, les labels, la taille d'une time series, sa fréquence d'echantillonage, ...). </font>\n",
    "\n",
    "\n",
    "\n",
    "Fréquence d'échantillonnage : 16kHz\n",
    "\n",
    "Quantité d'instances : 64727\n",
    "\n",
    "Nombre de labels : 12 (unkown étant composés de plusieurs labels non reconnus)\n",
    "\n",
    "Taille d'une time series : 1 seconde (16000 points)\n",
    "\n",
    "\n"
   ]
  },
  {
   "cell_type": "markdown",
   "metadata": {
    "id": "990a7026"
   },
   "source": [
    "### Visualitation d'une donnée et analyse critique\n",
    "\n",
    "<font color=\" Darkblue\"> **Tips:** Faites un subplot de plusieurs labels différents pour voir visuellement les différences. </font>\n",
    "\n",
    "\n",
    "\n",
    "> **Ecrire votre texte ici.**"
   ]
  },
  {
   "cell_type": "code",
   "execution_count": null,
   "metadata": {
    "id": "fba49826",
    "outputId": "2d81a7e7-c7ed-4b53-b6f3-7368dc811ca9"
   },
   "outputs": [],
   "source": [
    "import matplotlib.pyplot as plt\n",
    "\n",
    "import numpy as np\n",
    "\n",
    "import IPython.display as ipd\n",
    "\n",
    "from scipy.io import wavfile\n",
    "\n",
    "\n",
    "\n",
    "from google.colab import drive # Pour google colab\n",
    "\n",
    "drive.mount('/content/drive')  # Pour google colab\n",
    "\n",
    "\n",
    "\n",
    "# Ajouter ce dossier dans votre drive: https://drive.google.com/drive/folders/1AAiaDTWJzvS6NaZXE_dfJ603QWhhcl0R?usp=sharing"
   ]
  },
  {
   "cell_type": "code",
   "execution_count": null,
   "metadata": {},
   "outputs": [],
   "source": [
    "!mkdir data\n",
    "\n",
    "!cp /content/drive/MyDrive/tensorflow-speech-recognition-challenge/* /content/data/  # Pour google colab"
   ]
  },
  {
   "cell_type": "code",
   "execution_count": null,
   "metadata": {},
   "outputs": [],
   "source": [
    "#subplot sur plusieurs classes :\n",
    "\n",
    "\n",
    "\n",
    "sample_rate, samples = wavfile.read('/content/data/train/audio/yes/0a7c2a8d_nohash_0.wav')\n",
    "\n",
    "sample_rate2, samples2 = wavfile.read('/content/data/train/audio/no/0a7c2a8d_nohash_0.wav')\n",
    "\n",
    "plt.subplot(1, 2, 1)\n",
    "\n",
    "plt.plot(samples)\n",
    "\n",
    "plt.title('yes')\n",
    "\n",
    "plt.subplot(1, 2, 2)\n",
    "\n",
    "plt.plot(samples2)\n",
    "\n",
    "plt.title('no')\n",
    "\n",
    "plt.show()\n"
   ]
  },
  {
   "cell_type": "code",
   "execution_count": null,
   "metadata": {
    "id": "9CJBWg28M2el",
    "outputId": "57ff6a13-da03-44b5-c935-bc453dd747d5"
   },
   "outputs": [],
   "source": [
    "# Exporter une donnée\n",
    "\n",
    "# sample_rate, time_series = wavfile.read('/content/data/train/audio/bird/00b01445_nohash_0.wav')\n",
    "\n",
    "\n",
    "\n",
    "# Ecouter la donnée\n",
    "\n",
    "# ipd.Audio(time_series, rate=sample_rate)"
   ]
  },
  {
   "cell_type": "markdown",
   "metadata": {
    "id": "09e76b10"
   },
   "source": [
    "### Stockage des données\n",
    "\n",
    " <font color=\"red\"> **ATTENTION:** Respectez l'ordre des labels: 0 = yes, 1 = no, 2 = up, 3 = down, 4 = left, 5 = right, 6 = on, 7 = off, 8 = stop, 9 = go, 10 = silence, 11 = unknown </font>\n",
    "\n",
    "\n",
    "\n",
    "<font color=\" Darkblue\"> **Tips:** Réduisez la taille des données d'entrées afin d'éviter la saturation de la mémoire </font>"
   ]
  },
  {
   "cell_type": "code",
   "execution_count": null,
   "metadata": {
    "id": "51e542a8"
   },
   "outputs": [],
   "source": [
    "import os\n",
    "\n",
    "def fix_length(samples, length=16000):\n",
    "    if len(samples) > length:\n",
    "        start_ind = np.random.randint(0, len(samples)-length)\n",
    "        samples = samples[start_ind:start_ind+length]\n",
    "    elif len(samples) < length:\n",
    "        samples = np.pad(samples, (0, max(0, length - len(samples))), 'constant')\n",
    "    return samples\n",
    "\n",
    "def import_data():\n",
    "    all_waves, all_labels = [], []\n",
    "\n",
    "    recognized_labels = ['yes', 'no', 'up', 'down', 'left', 'right', 'on', 'off', 'stop', 'go', 'silence']\n",
    "    for label in recognized_labels:\n",
    "        if label == 'silence':\n",
    "            label_dir = '/content/data/train/audio/_background_noise_'\n",
    "        else:\n",
    "            label_dir = '/content/data/train/audio/{label}'\n",
    "        waves = [f for f in os.listdir(f'{label_dir}') if f.endswith('.wav')]\n",
    "        for wav in waves:\n",
    "            _, samples = wavfile.read(f'{label_dir}/{wav}')\n",
    "            fix_length(samples)\n",
    "            all_waves.append(samples)\n",
    "            all_labels.append(label)    \n",
    "\n",
    "    #add some unknown labels\n",
    "    waves = [f for f in os.listdir(f'/content/data/train/audio/') if f.endswith('.wav')]\n",
    "    unknown_labels = [label for label in waves if label not in recognized_labels]\n",
    "    for label in unknown_labels:\n",
    "        waves = [f for f in os.listdir(f'/content/data/train/audio/{label}') if f.endswith('.wav')]\n",
    "        waves = np.random.choice(waves, 100)\n",
    "        for wav in waves:\n",
    "            _, samples = wavfile.read(f'/content/data/train/audio/{label}/{wav}')\n",
    "            fix_length(samples)\n",
    "            all_waves.append(samples)\n",
    "            all_labels.append('unknown')\n",
    "\n",
    "    return np.array(all_waves), np.array(all_labels)\n",
    "\n",
    "all_waves, all_labels = import_data()"
   ]
  },
  {
   "cell_type": "markdown",
   "metadata": {
    "id": "59d4b38f"
   },
   "source": [
    "## \n",
    "Etat de l'art\n",
    "\n",
    "\n",
    "\n",
    "Etape importante qui suit: faire un état de l'art. Que cela soit pour innover, ou pour trouver une solution existante pertinente, faire un état de l'art scientifique est essentiel. Ici, vous devez chercher les articles liés à ce projet. Il faut pour cela remplir le tableau et bien marquer leurs références en dessous. De plus, un texte synthétique vous sera demandé pour expliquer selon vous, quels papiers sont les plus pertinants pour la suite de ce projet.\n",
    "\n",
    "\n",
    "\n",
    "Attention: une analyse critique est nécessaire sur ces papiers (certain papiers peuvent avoir des biais cachés).\n",
    "\n",
    "\n",
    "\n",
    "<font color=\"orange\"> **Note anti-plagiat:** Au moins 2 références devraient être différente des autres binômes. </font>\n",
    "\n",
    "\n",
    "\n",
    "&nbsp;\n",
    "\n",
    "\n",
    "\n",
    "\n",
    "\n",
    "<font color=\"Darkred\"> Progression du TP après cette partie (environ 2h):\n",
    "\n",
    "\n",
    "\n",
    "&nbsp;\n",
    "\n",
    "\n",
    "\n",
    "> **Ecrire votre texte ici.**\n",
    "\n",
    "\n",
    "\n",
    "| References | Preprocessing | Modèle |  Solution Embarquée ? | Dataset utilisé | Performances |\n",
    "\n",
    "| :---------------- | :------: | :----: | :----: | :----: | :----: |\n",
    "\n",
    "| MatchboxNet 2020 1D CNN | pas vue |  MatchboxNet | Non (77k param)| Google Speech Commands v1 | 97% | \n",
    "link :  https://arxiv.org/pdf/2004.08531v2 / 5/5\n",
    "\n",
    "| TRAINING WITH LIMITED DATA | ?  |  pre-trained ”Embedding+Head” Model | oui| speech commands |  97.4% | \n",
    "link :  https://arxiv.org/pdf/2002.01322 / 3/5\n",
    "\n",
    "| attention model 2018 | pas vue |   Attention RNN | Non (77k param)| Google Speech Commands dataset V1 |  94.1% | \n",
    "link :  https://arxiv.org/pdf/2004.08531v2  / \n",
    "\n",
    "\n",
    "\n",
    "| toto et al. [1]       |  -  | - | - | - | - |\n",
    "\n",
    "\n",
    "\n",
    "#### Références:\n",
    "\n",
    "- [1]: toto et al., ....."
   ]
  },
  {
   "cell_type": "markdown",
   "metadata": {
    "id": "e569e15d"
   },
   "source": [
    "## Preprocessing\n",
    "\n",
    "\n",
    "\n",
    "C'est la partie la plus importante du projet !! Même le modèle le plus performant de la terre ne pourra pas être précis sans des données d'entrées propres. De plus, il est important de réduire la quantité de données d'entrée (Décimation) afin de ne pas avoir un modèle trop lourd.\n",
    "\n",
    "\n",
    "\n",
    "<font color=\" Darkblue\"> **Tips:** Commencez par un preprocessing simple, et améliorez le lorsque les modèles seront en cours d'apprentissage. </font>\n",
    "\n",
    "\n",
    "\n",
    "Voici quelques sources qui pourront vous être utile pour faire votre code, en plus de l'état de l'art précedemment fait:\n",
    "\n",
    "- https://medium.com/enjoy-algorithm/pre-processing-of-time-series-data-c50f8a3e7a98\n",
    "\n",
    "- https://monkeylearn.com/blog/data-preprocessing/\n",
    "\n",
    "- https://machinelearningmastery.com/machine-learning-data-transforms-for-time-series-forecasting/\n",
    "\n",
    "- https://haythamfayek.com/2016/04/21/speech-processing-for-machine-learning.html (pour les plus expérimenté d'entre vous)\n",
    "\n",
    "\n",
    "\n",
    "&nbsp;\n",
    "\n",
    "\n",
    "\n",
    "<font color=\" Darkred\"> Progression du TP après cette partie (environ 3h): </font>  \n",
    "\n",
    "![56%](https://progress-bar.dev/56)\n"
   ]
  },
  {
   "cell_type": "markdown",
   "metadata": {
    "id": "266b5a91"
   },
   "source": [
    "### Zone d'expérimentation\n",
    "\n",
    "\n",
    "\n",
    "Ici vous êtes libre d'essayer des choses, les visualiser, avoir un regard critique sur la solution que vous décidez de prendre. Utilisez autant de cases de codes et de textes."
   ]
  },
  {
   "cell_type": "markdown",
   "metadata": {
    "id": "3f45722f"
   },
   "source": [
    "### Fonction de preprocessing\n",
    "\n",
    "\n",
    "\n",
    "> **Ecrire votre texte ici.**"
   ]
  },
  {
   "cell_type": "code",
   "execution_count": null,
   "metadata": {
    "id": "c826fe03",
    "outputId": "39bf9b28-c8ec-4ef1-b34e-5033fa39dbdf"
   },
   "outputs": [],
   "source": [
    "def preprocessing(inputs):\n",
    "\n",
    "    clean_inputs = inputs\n",
    "\n",
    "\n",
    "\n",
    "    # TO DO\n",
    "\n",
    "\n",
    "\n",
    "    return clean_inputs\n",
    "\n",
    "\n",
    "\n",
    "all_waves = np.ones((1, 1)) # à effacer\n",
    "\n",
    "\n",
    "\n",
    "print(f'Input before preprocessing: {all_waves.shape}')\n",
    "\n",
    "print(f'Input after preprocessing: {preprocessing(all_waves).shape}')"
   ]
  },
  {
   "cell_type": "markdown",
   "metadata": {
    "id": "d6640d2f"
   },
   "source": [
    "## Apprentissage du Modèle\n",
    "\n",
    "On y est, il est temps de créer un modèle. Pour cela, il vous sera imposé d'utiliser un réseau de convolution 1D [2] (https://www.tensorflow.org/api_docs/python/tf/keras/layers/Conv1D). Nous préconisons l'utilisation de Tensorflow mais vous êtes libre d'utiliser d'autres librairies comme Pytorch.\n",
    "\n",
    "\n",
    "\n",
    "&nbsp;\n",
    "\n",
    "\n",
    "\n",
    "<font color=\" Darkred\"> Progression du TP après cette partie (environ 3h): </font>  \n",
    "\n",
    "![75%](https://progress-bar.dev/75)"
   ]
  },
  {
   "cell_type": "markdown",
   "metadata": {
    "id": "adf9203f"
   },
   "source": [
    "### Train set, Validation set\n",
    "\n",
    "\n",
    "\n",
    "Avant d'entraîner votre modèle, pensez à séparer vos données d'entraînements et vos données de validations. Puis, pensez à créer des batchs pour correspondre à l'entrée de votre modèle.\n",
    "\n",
    "\n",
    "\n",
    "Plus d'infos ici:\n",
    "\n",
    " - https://www.tensorflow.org/datasets/splits?hl=fr\n",
    "\n",
    " - https://towardsdatascience.com/how-to-split-a-dataframe-into-train-and-test-set-with-python-eaa1630ca7b3\n",
    "\n",
    " - https://www.tensorflow.org/tutorials/customization/custom_training_walkthrough?hl=fr\n",
    "\n",
    "\n",
    "\n",
    " <font color=\" Darkblue\"> **Tips:** Pensez à bien mélanger vos données avant de les séparer. </font>\n",
    "\n",
    "\n",
    "\n",
    " <font color=\"orange\"> **Note anti-plagiat:** Le mélange doit avoir une random seed fixe et différente pour chaque groupe. </font>"
   ]
  },
  {
   "cell_type": "code",
   "execution_count": null,
   "metadata": {
    "id": "13247892",
    "outputId": "baf2c5cd-3bc5-4a70-f084-7917f687c3cc"
   },
   "outputs": [],
   "source": [
    "import tensorflow as tf\n",
    "\n",
    "from sklearn.model_selection import train_test_split\n",
    "\n",
    "\n",
    "\n",
    "\n",
    "\n",
    "# TO DO: Séparez vos données.\n",
    "\n",
    "X_train, y_train = np.random.rand(100, 1000), np.random.randint(0, high=12, size=100) # à effacer\n",
    "\n",
    "X_val, y_val = np.random.rand(100, 1000), np.random.randint(0, high=12, size=100) # à effacer\n",
    "\n",
    "\n",
    "\n",
    "y_train = tf.keras.utils.to_categorical(y_train, num_classes=12)\n",
    "\n",
    "y_val = tf.keras.utils.to_categorical(y_val, num_classes=12)\n",
    "\n",
    "\n",
    "\n",
    "BATCH_SIZE = 32 #Vous pouvez le modifier\n",
    "\n",
    "\n",
    "\n",
    "X_train = np.expand_dims(X_train, axis=2)\n",
    "\n",
    "train = tf.data.Dataset.from_tensor_slices((X_train, y_train))\n",
    "\n",
    "train = train.batch(32, drop_remainder=True)\n",
    "\n",
    "\n",
    "\n",
    "X_val = np.expand_dims(X_val, axis=2)\n",
    "\n",
    "val = tf.data.Dataset.from_tensor_slices((X_val, y_val))\n",
    "\n",
    "val = val.batch(32, drop_remainder=True)\n",
    "\n",
    "\n",
    "\n",
    "\n",
    "\n",
    "for example_inputs, example_labels in train.take(1):\n",
    "\n",
    "    print(f'Inputs shape (batch, time, features): {example_inputs.shape}')\n",
    "\n",
    "    print(f'Labels shape (batch, time, features): {example_labels.shape}')"
   ]
  },
  {
   "cell_type": "markdown",
   "metadata": {
    "id": "34f099ea"
   },
   "source": [
    "### Baseline\n",
    "\n",
    "\n",
    "\n",
    "La baseline est importante afin de connaître le seuil où le modèle est performant. A vous de trouver la meilleure baseline et d'expliquer votre choix.\n",
    "\n",
    "\n",
    "\n",
    "Plus d'infos ici:\n",
    "\n",
    "https://towardsdatascience.com/calculating-a-baseline-accuracy-for-a-classification-model-a4b342ceb88f\n",
    "\n",
    "\n",
    "\n",
    "> **Ecrire votre texte ici.**"
   ]
  },
  {
   "cell_type": "code",
   "execution_count": null,
   "metadata": {
    "id": "1b95413e",
    "outputId": "1355e38d-8a5b-4b41-c054-79e8e832d8f9"
   },
   "outputs": [],
   "source": [
    "# TO DO\n",
    "\n",
    "\n",
    "\n",
    "result_train, result_val = 0, 0 # à effacer\n",
    "\n",
    "\n",
    "\n",
    "print(f'Train dataset: {result_train}%')\n",
    "\n",
    "print(f'Validation dataset: {result_val}%')"
   ]
  },
  {
   "cell_type": "markdown",
   "metadata": {
    "id": "BRbcm3ibkYoM"
   },
   "source": [
    "### Modèle\n",
    "\n",
    "\n",
    "\n",
    "Vous devez créer une fonction permettant de générer le modèle. Celle-ci doit pouvoir être modifiable en fonction des Hyperparamètres mis en entrée.\n",
    "\n",
    "\n",
    "\n",
    " <font color=\"red\"> **ATTENTION:** Une limite de 150 000 paramètres est imposés. </font>\n",
    "\n",
    "\n",
    "\n",
    "Justification de vos choix (Choix des paramètres modifiables, fonction d'activations, nombres de couches, regularizers, ...) :\n",
    "\n",
    "> **Ecrire votre texte ici.**"
   ]
  },
  {
   "cell_type": "code",
   "execution_count": null,
   "metadata": {
    "id": "puz6cSOJmnCL",
    "outputId": "322c9e57-f3b9-4c3b-c0f5-1c8533748ec9"
   },
   "outputs": [],
   "source": [
    "def total_param(model):\n",
    "\n",
    "# Ne pas modifier.\n",
    "\n",
    "  stringlist = []\n",
    "\n",
    "  model.summary(print_fn=lambda x: stringlist.append(x))\n",
    "\n",
    "  for line in stringlist[::-1]:\n",
    "\n",
    "    if \"Total params\" in line:\n",
    "\n",
    "      value = line.split('(')[1]\n",
    "\n",
    "      if value[-3:-1] == 'KB':\n",
    "\n",
    "        return float(value[:-4]) * 1e3\n",
    "\n",
    "      else:\n",
    "\n",
    "        return float(value[:-4]) * 1e6\n",
    "\n",
    "\n",
    "\n",
    "\n",
    "\n",
    "def create_model(param):\n",
    "\n",
    "  # Exemple à modifier\n",
    "\n",
    "  model = tf.keras.Sequential()\n",
    "\n",
    "  model.add(tf.keras.layers.Conv1D(8, 100, strides=10, activation=param['activation'], input_shape=(1000,1)))\n",
    "\n",
    "  model.add(tf.keras.layers.Flatten())\n",
    "\n",
    "  for i in range(param['hidden_layer']):\n",
    "\n",
    "    model.add(tf.keras.layers.Dense(200, activation=param['activation']))\n",
    "\n",
    "  model.add(tf.keras.layers.Dense(12, activation='softmax'))\n",
    "\n",
    "  return model\n",
    "\n",
    "\n",
    "\n",
    "param = {\n",
    "\n",
    "    # Exemple de paramètres à modifier\n",
    "\n",
    "    'activation' : 'relu',\n",
    "\n",
    "    'hidden_layer' : 1}\n",
    "\n",
    "\n",
    "\n",
    "model = create_model(param)\n",
    "\n",
    "\n",
    "\n",
    "model.summary()\n",
    "\n",
    "print(f'Poids du modèle: {total_param(model)} octets')"
   ]
  },
  {
   "cell_type": "markdown",
   "metadata": {
    "id": "jdvfI-GGfSjJ"
   },
   "source": [
    "### Fonction d'entraînement\n",
    "\n",
    "\n",
    "\n",
    "Cette fonction doit prendre un modèle en entrée et l'entrainer grâce au Train set. Puis, retourner les performances obtenues avec le Validation set.\n",
    "\n",
    "\n",
    "\n",
    "Pour les plus expérimentés d'entre vous: Vous pouvez réaliser une cross validation [[2]](https://datascientest.com/cross-validation).\n",
    "\n",
    "\n",
    "\n",
    "Justification de vos choix (Choix des paramètres modifiables, optimizer, nombres d'epoch, learning rate, ...) :\n",
    "\n",
    "> **Ecrire votre texte ici.**"
   ]
  },
  {
   "cell_type": "code",
   "execution_count": null,
   "metadata": {
    "id": "gxYxcPbOkdgu",
    "outputId": "1ebdef7c-5f41-4f24-c861-d09e688a94c7"
   },
   "outputs": [],
   "source": [
    "def compile_and_fit(model, train, val, param, verbose=1):\n",
    "\n",
    "    # Exemple à modifier\n",
    "\n",
    "    early_stopping = tf.keras.callbacks.EarlyStopping(monitor='val_loss',\n",
    "\n",
    "                                                    patience=0.2,\n",
    "\n",
    "                                                    mode='min')\n",
    "\n",
    "\n",
    "\n",
    "    # Pour les plus confirmés\n",
    "\n",
    "    # lr = tf.optimizers.schedules.ExponentialDecay(\n",
    "\n",
    "    #     initial_learning_rate=1e-2,\n",
    "\n",
    "    #     decay_steps=1000,\n",
    "\n",
    "    #     decay_rate=0.95)\n",
    "\n",
    "\n",
    "\n",
    "    lr =  1e-3\n",
    "\n",
    "\n",
    "\n",
    "    model.compile(loss='categorical_crossentropy',\n",
    "\n",
    "                optimizer=tf.optimizers.Adam(learning_rate=lr),\n",
    "\n",
    "                metrics=['accuracy', tf.keras.metrics.Precision(name='precision'), tf.keras.metrics.Recall(name='recall')])\n",
    "\n",
    "\n",
    "\n",
    "    model.fit(train, epochs=param['max_epochs'],\n",
    "\n",
    "                      validation_data=val,\n",
    "\n",
    "                      callbacks=[early_stopping], verbose=verbose)\n",
    "\n",
    "\n",
    "\n",
    "    validation_accuracy = model.evaluate(val)\n",
    "\n",
    "    return validation_accuracy, model\n",
    "\n",
    "\n",
    "\n",
    "param = {\n",
    "\n",
    "    # Exemple de paramètres à modifier\n",
    "\n",
    "    'max_epochs' : 1000\n",
    "\n",
    "}\n",
    "\n",
    "\n",
    "\n",
    "validation_accuracy = compile_and_fit(model, train, val, param)"
   ]
  },
  {
   "cell_type": "markdown",
   "metadata": {
    "id": "Z0fbfyGPmACk"
   },
   "source": [
    "### Fit tuning des hyperparamètres.\n",
    "\n",
    "\n",
    "\n",
    "Après avoir défini les hyperparamètres modifiables et vérifier que les fonctions fonctionnent, il est temps de lancer l'optimisation des hyperparamètres. Pour cela je vous invite à utiliser Optuna [[3]](https://optuna.readthedocs.io/en/stable/index.html) qui a plusieurs fonctionnalités:\n",
    "\n",
    "*   Une visualisation facilitée.\n",
    "\n",
    "*   Un suivi de l'avancement de l'optimisation.\n",
    "\n",
    "*   Une possibilité de reprendre l'optimisation sans reprendre depuis le début si un problème arrive durant le traitement.\n",
    "\n",
    "\n",
    "\n",
    " <font color=\" Darkblue\"> **Tips:** Essayez de lancer l'optimisation pendant le TP pour voir si il fonctionne et arretez le. Lancez le pour de bon à la fin de la séance ou pendant la semaine car cela va prendre plusieurs heures, voir plusieurs jours. </font>\n",
    "\n",
    "\n",
    "\n",
    " <font color=\"orange\"> **Note anti-plagiat:** L'optimisation doit avoir une random seed fixe et différente pour chaque groupe. </font>\n",
    "\n",
    "\n",
    "\n",
    " Merci de justifier vos plages de valeurs et faite un résumé sous forme de tableau :\n",
    "\n",
    " > **Ecrire votre texte ici.**\n",
    "\n",
    "\n",
    "\n",
    "\n",
    "\n",
    " | Hyperparamètre | Meilleure valeur | Plage | Step | Type de la plage |\n",
    "\n",
    "| :---------------- | :------: | :----: | :----: | :----: |\n",
    "\n",
    "| -   |  -  | - | - | - |"
   ]
  },
  {
   "cell_type": "code",
   "execution_count": null,
   "metadata": {
    "id": "zcTnO30-fRc0",
    "outputId": "a5606636-344d-418e-98fd-ee6633841a7f"
   },
   "outputs": [],
   "source": [
    "!pip install optuna\n",
    "\n",
    "\n",
    "\n",
    "import optuna\n",
    "\n",
    "\n",
    "\n",
    "SEED = 5\n",
    "\n",
    "np.random.seed(SEED)\n",
    "\n",
    "\n",
    "\n",
    "def objective(trial):\n",
    "\n",
    "\n",
    "\n",
    "    # Exemple de paramètres à modifier\n",
    "\n",
    "    param_model = {\n",
    "\n",
    "        'activation': trial.suggest_categorical(\"activation\", [\"relu\", \"selu\"]),\n",
    "\n",
    "        'hidden_layer' : trial.suggest_int('hidden_layer', 1, 3)\n",
    "\n",
    "    }\n",
    "\n",
    "\n",
    "\n",
    "    param_training = {\n",
    "\n",
    "        'max_epochs': trial.suggest_int('max_epochs', 800, 1000, step=100),\n",
    "\n",
    "    }\n",
    "\n",
    "\n",
    "\n",
    "    model = create_model(param_model)\n",
    "\n",
    "\n",
    "\n",
    "    metrics, _ = compile_and_fit(model, train, val, param_training, verbose=0)\n",
    "\n",
    "\n",
    "\n",
    "    trial.set_user_attr('Size', total_param(model))\n",
    "\n",
    "\n",
    "\n",
    "    return metrics[1]\n",
    "\n",
    "\n",
    "\n",
    "\n",
    "\n",
    "study_name = \"NOM1~NOM2-Tuning\"\n",
    "\n",
    "storage_name = f'sqlite:////content/drive/MyDrive/TP N9EE39A/{study_name}.db' #Chemin à créer dans votre drive\n",
    "\n",
    "\n",
    "\n",
    "study = optuna.create_study(\n",
    "\n",
    "    direction='maximize',\n",
    "\n",
    "    study_name=study_name,\n",
    "\n",
    "    storage=storage_name,\n",
    "\n",
    "    sampler=optuna.samplers.TPESampler(seed=SEED),\n",
    "\n",
    "    load_if_exists=True)\n",
    "\n",
    "\n",
    "\n",
    "study.optimize(objective, n_trials=2)"
   ]
  },
  {
   "cell_type": "markdown",
   "metadata": {
    "id": "Dbfa63od5fqW"
   },
   "source": [
    "## Résultat et discussion\n",
    "\n",
    "\n",
    "\n",
    "<font color=\" Darkred\"> Progression du TP après cette partie (environ 3h): </font>  \n",
    "\n",
    "![84%](https://progress-bar.dev/84)\n"
   ]
  },
  {
   "cell_type": "markdown",
   "metadata": {
    "id": "PpPA29teBDb8"
   },
   "source": [
    "### Export du modèle\n",
    "\n",
    "\n",
    "\n",
    "Merci d'exporter le meilleur modèle et l'envoyer avec le jupyter notebook et la base de données d'entraînement. Lors de l'exportation d'un modèle, il est recommandé d'utiliser la base de donnée d'entrainement, et de validation.\n",
    "\n",
    "\n",
    "\n",
    " <font color=\"green\">*Cette partie du code est complète, vous n'avez pas besoin de la modifier.* </font>"
   ]
  },
  {
   "cell_type": "code",
   "execution_count": null,
   "metadata": {
    "id": "3bRjbe_O6E3t",
    "outputId": "f149b691-2fcb-430b-c6d9-77b2021c1464"
   },
   "outputs": [],
   "source": [
    "import joblib\n",
    "\n",
    "\n",
    "\n",
    "study = optuna.load_study(storage=storage_name, study_name=study_name)\n",
    "\n",
    "print(\"Best trial until now:\")\n",
    "\n",
    "print(\"   Value: \", study.best_trial.value)\n",
    "\n",
    "print(\"   Params: \")\n",
    "\n",
    "for key, value in study.best_trial.params.items():\n",
    "\n",
    "    print(f\"    -{key}: {value}\")\n",
    "\n",
    "print(\"----------------------\")\n",
    "\n",
    "\n",
    "\n",
    "model = create_model(study.best_trial.params)\n",
    "\n",
    "\n",
    "\n",
    "train_and_val = tf.data.Dataset.from_tensor_slices((np.concatenate((X_train, X_val)), np.concatenate((y_train, y_val))))\n",
    "\n",
    "train_and_val = train_and_val.shuffle(1500, reshuffle_each_iteration=True)\n",
    "\n",
    "train_and_val = train_and_val.batch(32, drop_remainder=True)\n",
    "\n",
    "\n",
    "\n",
    "\n",
    "\n",
    "_, global_model = compile_and_fit(model, train_and_val, val, study.best_trial.params, verbose=0)\n",
    "\n",
    "\n",
    "\n",
    "joblib.dump(global_model, '/content/drive/MyDrive/TP N9EE39A/NOM1~NOM2_model.pkl')"
   ]
  },
  {
   "cell_type": "markdown",
   "metadata": {
    "id": "SHUXGNRoDl25"
   },
   "source": [
    "### Dépôt sur Kaggle\n",
    "\n",
    "\n",
    "\n",
    "Il est temps de soumettre vos résultats sur Kaggle. Qu'en pensez vous, êtes vous satisfait de vos performances ? Est-ce que vous vous attendiez à ces performances ?\n",
    "\n",
    "\n",
    "\n",
    " <font color=\" Darkblue\"> **Tips:** Le format d'envoie et des tutoriels sont disponibles sur la page du concours. </font>\n",
    "\n",
    "\n",
    "\n",
    " <font color=\"orange\"> **Note anti-plagiat:** Il est impossible que le fichier que vous allez déposer soit le même qu'un autre binôme. Le fichier sera regénérer lors de la correction et doit être similaire avec celui déposé. </font>\n",
    "\n",
    "\n",
    "\n",
    "A la fin du projet, merci d'envoyer avec les autres fichiers ce fichier Kaggle avec comme nom **NOM1~NOM2_submission.csv**.\n",
    "\n",
    "\n",
    "\n",
    "> **Ecrire votre texte ici.**"
   ]
  },
  {
   "cell_type": "code",
   "execution_count": null,
   "metadata": {
    "id": "v9dSjfkUDAtH"
   },
   "outputs": [],
   "source": [
    "#Ici, tous le code est à faire. Normalement, tous a déjà été codé ou est facilement trouvable sur internet et sur le site de la compétition !"
   ]
  },
  {
   "cell_type": "markdown",
   "metadata": {
    "id": "YN7HC5eJHV-c"
   },
   "source": [
    "### Visualisation des résultats\n",
    "\n",
    "\n",
    "\n",
    "Ici tous le code a déjà été fait. Il faut par contre commenter les résultats et les performances que vous avez obtenu et l'utilité de chaque figure."
   ]
  },
  {
   "cell_type": "markdown",
   "metadata": {
    "id": "rY-HrrAEIda-"
   },
   "source": [
    " #### Matrice de confusion\n",
    "\n",
    "\n",
    "\n",
    " <font color=\"green\">*Cette partie du code est complète, vous n'avez pas besoin de la modifier.* </font>\n",
    "\n",
    "\n",
    "\n",
    " > **Ecrire votre texte ici.**"
   ]
  },
  {
   "cell_type": "code",
   "execution_count": null,
   "metadata": {
    "id": "y4FcGZ2eIt4e",
    "outputId": "2c9c7a31-aa69-4342-82a9-90ff8d4f3638"
   },
   "outputs": [],
   "source": [
    "from sklearn.metrics import ConfusionMatrixDisplay\n",
    "\n",
    "\n",
    "\n",
    "study = optuna.load_study(storage=storage_name, study_name=study_name)\n",
    "\n",
    "model = create_model(study.best_trial.params)\n",
    "\n",
    "_, model = compile_and_fit(model, train, val, study.best_trial.params, verbose=0)\n",
    "\n",
    "\n",
    "\n",
    "y_prob= model.predict(val)\n",
    "\n",
    "y_pred = y_prob.argmax(axis=1)\n",
    "\n",
    "\n",
    "\n",
    "ds_labels=[]\n",
    "\n",
    "for images, labels in val.unbatch():\n",
    "\n",
    "    ds_labels.append(labels)\n",
    "\n",
    "y_ref = np.array(ds_labels).argmax(axis=1)\n",
    "\n",
    "\n",
    "\n",
    "label_names = [\"yes\", \"no\", \"up\", \"down\", \"left\", \"right\", \"on\", \"off\", \"stop\", \"go\", \"silence\", \"unknown\"]\n",
    "\n",
    "ConfusionMatrixDisplay.from_predictions(y_ref, y_pred, cmap='Blues', normalize='true', ax=plt.subplots(figsize=(12,12))[1], display_labels=label_names)"
   ]
  },
  {
   "cell_type": "markdown",
   "metadata": {
    "id": "CLLXGht5gaAq"
   },
   "source": [
    "#### Résultat du Fit-tuning\n",
    "\n",
    "\n",
    "\n",
    " <font color=\"green\">*Cette partie du code est complète, vous n'avez pas besoin de la modifier.* </font>\n",
    "\n",
    "\n",
    "\n",
    " > **Ecrire votre texte ici.**"
   ]
  },
  {
   "cell_type": "code",
   "execution_count": null,
   "metadata": {
    "id": "ayaP_r7KhHLN",
    "outputId": "479f1118-cd7f-4e84-8417-2631dd8a1655"
   },
   "outputs": [],
   "source": [
    "plt.figure(figsize=(12,12))\n",
    "\n",
    "optuna.visualization.plot_optimization_history(study)"
   ]
  },
  {
   "cell_type": "code",
   "execution_count": null,
   "metadata": {
    "id": "x87mlRGJjFJV",
    "outputId": "2c007de8-18bf-4052-b04a-19212d313d9f"
   },
   "outputs": [],
   "source": [
    "plt.figure(figsize=(12,12))\n",
    "\n",
    "optuna.visualization.plot_slice(study)"
   ]
  },
  {
   "cell_type": "markdown",
   "metadata": {
    "id": "WKoCAyB4hYEb"
   },
   "source": [
    "#### Influence des hyperparamètres sur les performances\n",
    "\n",
    "\n",
    "\n",
    " <font color=\"green\">*Cette partie du code est complète, vous n'avez pas besoin de la modifier.* </font>\n",
    "\n",
    "\n",
    "\n",
    " > **Ecrire votre texte ici.**"
   ]
  },
  {
   "cell_type": "code",
   "execution_count": null,
   "metadata": {
    "id": "TwpQwAbVhh0V",
    "outputId": "bab0e7e8-dc57-473e-dd81-7af948bce3a9"
   },
   "outputs": [],
   "source": [
    "result = optuna.importance.get_param_importances(study)\n",
    "\n",
    "plt.figure(figsize=(12, 4.5), dpi=100)\n",
    "\n",
    "names = list(result.keys())\n",
    "\n",
    "values = list(result.values())\n",
    "\n",
    "\n",
    "\n",
    "plt.bar(range(len(result)), np.array(values)*100, tick_label=names, color='#000233')\n",
    "\n",
    "plt.ylabel(\"Hyperparameter importance (%)\")\n",
    "\n",
    "plt.show()"
   ]
  },
  {
   "cell_type": "markdown",
   "metadata": {
    "id": "2taFMf4VhtWu"
   },
   "source": [
    "#### Influence des hyperparamètres sur le temps de calcul\n",
    "\n",
    "\n",
    "\n",
    " <font color=\"green\">*Cette partie du code est complète, vous n'avez pas besoin de la modifier.* </font>\n",
    "\n",
    "\n",
    "\n",
    " > **Ecrire votre texte ici.**"
   ]
  },
  {
   "cell_type": "code",
   "execution_count": null,
   "metadata": {
    "id": "_GwNNfu4h54x",
    "outputId": "057257c7-1941-413f-bdc1-0986a7b363df"
   },
   "outputs": [],
   "source": [
    "result = optuna.importance.get_param_importances(study, target=lambda t: t.duration.total_seconds())\n",
    "\n",
    "plt.figure(figsize=(12, 4.5), dpi=100)\n",
    "\n",
    "names = list(result.keys())\n",
    "\n",
    "values = list(result.values())\n",
    "\n",
    "\n",
    "\n",
    "plt.bar(range(len(result)), np.array(values)*100, tick_label=names, color='#000233')\n",
    "\n",
    "plt.ylabel(\"Hyperparameter importance (%)\")\n",
    "\n",
    "plt.show()"
   ]
  },
  {
   "cell_type": "markdown",
   "metadata": {
    "id": "0zLsdT2gyfrq"
   },
   "source": [
    "#### Frontière de Pareto [[4]](https://fr.wikipedia.org/wiki/Optimum_de_Pareto)\n",
    "\n",
    "\n",
    "\n",
    " <font color=\"green\">*Cette partie du code est complète, vous n'avez pas besoin de la modifier.* </font>\n",
    "\n",
    "\n",
    "\n",
    " > **Ecrire votre texte ici.**"
   ]
  },
  {
   "cell_type": "code",
   "execution_count": null,
   "metadata": {
    "id": "N9wEhDbWkdkN",
    "outputId": "0c02b8a7-2a14-4711-ea96-17e0b3c85f97"
   },
   "outputs": [],
   "source": [
    "import pandas\n",
    "\n",
    "\n",
    "\n",
    "def plot_pareto_frontier(Xs, Ys, maxX=True, maxY=True):\n",
    "\n",
    "  # From https://sirinnes.wordpress.com/2013/04/25/pareto-frontier-graphic-via-python/\n",
    "\n",
    "    '''Pareto frontier selection process'''\n",
    "\n",
    "    sorted_list = sorted([[Xs[i], Ys[i]] for i in range(len(Xs))], reverse=maxY)\n",
    "\n",
    "    pareto_front = [sorted_list[0]]\n",
    "\n",
    "    for pair in sorted_list[1:]:\n",
    "\n",
    "        if maxY:\n",
    "\n",
    "            if pair[1] >= pareto_front[-1][1]:\n",
    "\n",
    "                pareto_front.append(pair)\n",
    "\n",
    "        else:\n",
    "\n",
    "            if pair[1] <= pareto_front[-1][1]:\n",
    "\n",
    "                pareto_front.append(pair)\n",
    "\n",
    "\n",
    "\n",
    "    '''Plotting process'''\n",
    "\n",
    "    plt.scatter(Xs,Ys)\n",
    "\n",
    "    pf_X = [pair[0] for pair in pareto_front]\n",
    "\n",
    "    pf_Y = [pair[1] for pair in pareto_front]\n",
    "\n",
    "    plt.plot(pf_X, pf_Y)\n",
    "\n",
    "    plt.xlabel(\"Poids du modèle (octets)\")\n",
    "\n",
    "    plt.ylabel(\"Accuracy (%)\")\n",
    "\n",
    "    plt.show()\n",
    "\n",
    "\n",
    "\n",
    "df = study.trials_dataframe()\n",
    "\n",
    "plot_pareto_frontier(df['user_attrs_Size'], df['value'])"
   ]
  },
  {
   "cell_type": "markdown",
   "metadata": {
    "id": "pRqATIw30DB4"
   },
   "source": [
    "## Allégement du modèle post-optimisation\n",
    "\n",
    "\n",
    "\n",
    "Dans cette dernière partie, nous allons nous intéresser à l'influence des performances lorsque le modèle est allégé. Dans des appareils embarqués, il est nécessaire de trouver un compromis entre la performance du modèle, son poids, et la quantité d'opération.\n",
    "\n",
    "\n",
    "\n",
    "Au vue du nombre de séances, nous allons nous intéressé ici qu'au poids du système.\n",
    "\n",
    "\n",
    "\n",
    "Pour cela, vous allez essayé de réduire le poids du meilleur modèle obtenu, puis avoir un regard critique sur les performances à chaque modification.\n",
    "\n",
    "\n",
    "\n",
    "Voici les techniques d'allégement à essayer:\n",
    "\n",
    "  - **La quantification**: Réduire le nombre d'octets des paramètres du modèles et les convertir en entiers [[5]](https://www.tensorflow.org/lite/performance/post_training_quantization).\n",
    "\n",
    "  - **L'élagage**: Supprimer les modèles qui ont un impact mineur sur les prédictions [[6]](https://www.tensorflow.org/model_optimization/guide/pruning/pruning_with_keras).\n",
    "\n",
    "  - **Le clustering**: Regrouper les poids de chaque couche dans un modèle en un nombre prédéfini de clusters, puis en partageant les valeurs centroïdes pour les poids appartenant à chaque cluster individuel [[7]](https://www.tensorflow.org/model_optimization/guide/clustering/clustering_example).\n",
    "\n",
    "  - **La décimation** : Réduire le nombre d'entrée.\n",
    "\n",
    "\n",
    "\n",
    "<font color=\" Darkred\"> Progression du TP après cette partie (environ 4h):\n",
    "\n",
    "\n",
    "\n",
    "Essayez d'avoir la meilleure accuracy avec un poids maximum inférieur à 75 KB.\n",
    "\n",
    "\n",
    "\n",
    " <font color=\" Darkblue\"> **Tips:**  Des tutoriels sont disponibles sur les liens attachés au techniques d'allégement. </font>\n",
    "\n",
    "\n",
    "\n",
    " > **Ecrire votre texte ici.**"
   ]
  },
  {
   "cell_type": "code",
   "execution_count": null,
   "metadata": {
    "id": "fCuo5Ug4436u"
   },
   "outputs": [],
   "source": [
    "#Ici, tous le code est à faire. Normalement, tous a déjà été codé ou est facilement trouvable sur internet !"
   ]
  },
  {
   "cell_type": "markdown",
   "metadata": {
    "id": "r-w4WkWa2pzl"
   },
   "source": [
    "### BONUS: Allégement avant optimisation\n",
    "\n",
    "\n",
    "\n",
    "Relancez un fit-tuning en rajoutant les paramètres d'allégements. Puis, observez les resultats avec une frontière de pareto. Les valeurs minimums de poids de la frontière doivent se trouver en dessous de 50 KB.\n",
    "\n",
    "\n",
    "\n",
    " <font color=\" Darkblue\"> **Tips:** Utilisez 2 métriques lorsque vous lancez la fonction d'activation. </font>\n",
    "\n",
    "\n",
    "\n",
    " > **Ecrire votre texte ici.**"
   ]
  },
  {
   "cell_type": "code",
   "execution_count": null,
   "metadata": {
    "id": "tw6JBclM3e1i"
   },
   "outputs": [],
   "source": []
  },
  {
   "cell_type": "markdown",
   "metadata": {
    "id": "r3Qn7tP40xlT"
   },
   "source": [
    "## Conclusion\n",
    "\n",
    "\n",
    "\n",
    "\n",
    "\n",
    " <font color=\" Darkblue\"> **Tips:** Concluez sur vos résultats, les limitations de votre modèle et les perspectives envisagées pour l'améliorer. </font>\n",
    "\n",
    "\n",
    "\n",
    "\n",
    "\n",
    " <font color=\" Darkred\"> Progression du TP après cette partie (environ 0h30): </font>  \n",
    "\n",
    "\n",
    "\n",
    "\n",
    "\n",
    "> **Ecrire votre texte ici.**"
   ]
  }
 ],
 "metadata": {
  "colab": {
   "provenance": []
  },
  "kaggle": {
   "accelerator": "none",
   "dataSources": [],
   "isGpuEnabled": false,
   "isInternetEnabled": true,
   "language": "python",
   "sourceType": "notebook"
  },
  "kernelspec": {
   "display_name": "Python 3 (ipykernel)",
   "language": "python",
   "name": "python3"
  },
  "language_info": {
   "codemirror_mode": {
    "name": "ipython",
    "version": 3
   },
   "file_extension": ".py",
   "mimetype": "text/x-python",
   "name": "python",
   "nbconvert_exporter": "python",
   "pygments_lexer": "ipython3",
   "version": "3.10.9"
  }
 },
 "nbformat": 4,
 "nbformat_minor": 4
}
